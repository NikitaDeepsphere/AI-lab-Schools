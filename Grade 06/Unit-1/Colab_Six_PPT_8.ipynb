{
  "nbformat": 4,
  "nbformat_minor": 0,
  "metadata": {
    "colab": {
      "name": "Untitled37.ipynb",
      "provenance": [],
      "include_colab_link": true
    },
    "kernelspec": {
      "name": "python3",
      "display_name": "Python 3"
    },
    "language_info": {
      "name": "python"
    }
  },
  "cells": [
    {
      "cell_type": "markdown",
      "metadata": {
        "id": "view-in-github",
        "colab_type": "text"
      },
      "source": [
        "<a href=\"https://colab.research.google.com/github/NikitaDeepsphere/AI-lab-Schools/blob/main/Grade%2006/Unit-1/Colab_Six_PPT_8.ipynb\" target=\"_parent\"><img src=\"https://colab.research.google.com/assets/colab-badge.svg\" alt=\"Open In Colab\"/></a>"
      ]
    },
    {
      "cell_type": "code",
      "execution_count": 1,
      "metadata": {
        "id": "CAr47YpgaGxV",
        "outputId": "5403c4e8-d987-4562-9880-6113633a7a72",
        "colab": {
          "base_uri": "https://localhost:8080/"
        }
      },
      "outputs": [
        {
          "output_type": "stream",
          "name": "stdout",
          "text": [
            "odd\n"
          ]
        }
      ],
      "source": [
        "# \"\"\"\n",
        "# Ex 8.\n",
        "\n",
        "# Print whether a number is even or odd\n",
        "# Hint: Use %\n",
        "\n",
        "# Program description: The objective of this program is to print whether a number is odd or even. This program highlights the function of if statement and else statement. \n",
        "# Then this program will print even or else odd. Any number positive or negative which is divisible by 2 are declared to be even numbers which aren’t are declared to be odd numbers. \n",
        "# This program reads an input integer using input (). When this input is divided by 2 and leaves a remainder other than 0 it is printed as odd number. \n",
        "# When input is = 0 it is printed as even number.\n",
        "\n",
        "# \"\"\"\n",
        "\n",
        "vARinput_num = 141\n",
        "if(vARinput_num%2 == 0):\n",
        "  print(\"even\")\n",
        "else:\n",
        "  print(\"odd\")"
      ]
    }
  ]
}