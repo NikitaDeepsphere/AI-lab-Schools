{
  "nbformat": 4,
  "nbformat_minor": 0,
  "metadata": {
    "colab": {
      "name": "Colab_Seven_PPT_22.ipynb",
      "provenance": [],
      "include_colab_link": true
    },
    "kernelspec": {
      "name": "python3",
      "display_name": "Python 3"
    },
    "language_info": {
      "name": "python"
    }
  },
  "cells": [
    {
      "cell_type": "markdown",
      "metadata": {
        "id": "view-in-github",
        "colab_type": "text"
      },
      "source": [
        "<a href=\"https://colab.research.google.com/github/NikitaDeepsphere/AI-lab-Schools/blob/main/Grade%2007/Unit-3/Colab_Seven_PPT_22.ipynb\" target=\"_parent\"><img src=\"https://colab.research.google.com/assets/colab-badge.svg\" alt=\"Open In Colab\"/></a>"
      ]
    },
    {
      "cell_type": "code",
      "execution_count": 1,
      "metadata": {
        "id": "AC51pKQ4O2N7",
        "outputId": "d09d0a2b-b39c-42a5-8342-155a05e9e5fa",
        "colab": {
          "base_uri": "https://localhost:8080/"
        }
      },
      "outputs": [
        {
          "output_type": "stream",
          "name": "stdout",
          "text": [
            "Half of this\n"
          ]
        }
      ],
      "source": [
        "# \"\"\"\n",
        "# Ex 22.\n",
        "\n",
        "# Create a function that will return the first half of a string (can be a word or sentence)\n",
        "\n",
        "# Program description: The objective of this program is to create a function that will return the first half of a string this string can be either word or sentence.\n",
        "# For example: -\n",
        "#                   *” Half of this sentence is “=  Half of this\n",
        "#                   *Hi= H\n",
        "\n",
        "# \"\"\"\n",
        "\n",
        "\n",
        "vAR_str1 = \"Half of this sentence is\"\n",
        "def half(string):\n",
        "  return string[:int(len(string)/2)]\n",
        "\n",
        "print(half(vAR_str1))"
      ]
    }
  ]
}