{
  "nbformat": 4,
  "nbformat_minor": 0,
  "metadata": {
    "colab": {
      "name": "Untitled38.ipynb",
      "provenance": [],
      "include_colab_link": true
    },
    "kernelspec": {
      "name": "python3",
      "display_name": "Python 3"
    },
    "language_info": {
      "name": "python"
    }
  },
  "cells": [
    {
      "cell_type": "markdown",
      "metadata": {
        "id": "view-in-github",
        "colab_type": "text"
      },
      "source": [
        "<a href=\"https://colab.research.google.com/github/NikitaDeepsphere/AI-lab-Schools/blob/main/Grade%2006/Unit-1/Colab_Six_PPT_9.ipynb\" target=\"_parent\"><img src=\"https://colab.research.google.com/assets/colab-badge.svg\" alt=\"Open In Colab\"/></a>"
      ]
    },
    {
      "cell_type": "code",
      "execution_count": 1,
      "metadata": {
        "id": "zqmLGxbUaakV",
        "outputId": "43680a57-1c09-4095-8a56-f899e963795a",
        "colab": {
          "base_uri": "https://localhost:8080/"
        }
      },
      "outputs": [
        {
          "output_type": "stream",
          "name": "stdout",
          "text": [
            "3\n"
          ]
        }
      ],
      "source": [
        "# \"\"\"\n",
        "# Ex 9.\n",
        "\n",
        "# Print the remainder of a number when divided by 11\n",
        "\n",
        "# Program description: The objective of this program is to print the remainder of a number when divided by 11. \n",
        "# This program highlights the % python modulo.\n",
        "# Basically, this python modulo operation is used to get the remainder of a division. The vARinput_num in this program 1411. \n",
        "# Then, it prints the remainder after dividing.\n",
        "# Note: The operands of python modulo operator can be either integer or float.\n",
        "\n",
        "# \"\"\"\n",
        "\n",
        "vARinput_num = 1411\n",
        "print(vARinput_num%11)"
      ]
    }
  ]
}